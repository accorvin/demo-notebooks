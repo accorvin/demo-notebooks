{
 "cells": [
  {
   "attachments": {},
   "cell_type": "markdown",
   "id": "ed5bc73b-b45a-44bc-9ff8-46aa1021d01d",
   "metadata": {},
   "source": [
    "# An XGBoost Training run, without Ray"
   ]
  },
  {
   "cell_type": "code",
   "execution_count": 15,
   "id": "d7b05efc-e297-4bda-b362-80128c25e191",
   "metadata": {},
   "outputs": [
    {
     "name": "stdout",
     "output_type": "stream",
     "text": [
      "Final training error: 0.0105\n"
     ]
    }
   ],
   "source": [
    "from xgboost import DMatrix, train\n",
    "from sklearn.datasets import load_breast_cancer\n",
    "\n",
    "train_x, train_y = load_breast_cancer(return_X_y=True)\n",
    "train_set = DMatrix(train_x, train_y)\n",
    "\n",
    "evals_result = {}\n",
    "\n",
    "bst = train(\n",
    "    {\n",
    "        \"objective\": \"binary:logistic\",\n",
    "        \"eval_metric\": [\"logloss\", \"error\"]\n",
    "    },\n",
    "    train_set,\n",
    "    evals_result=evals_result,\n",
    "    evals=[(train_set, \"train\")],\n",
    "    verbose_eval=False,\n",
    "    num_boost_round=2\n",
    ")\n",
    "\n",
    "print(f'Final training error: {evals_result[\"train\"][\"error\"][-1]:.4f}')"
   ]
  },
  {
   "attachments": {},
   "cell_type": "markdown",
   "id": "4946e4cc-d582-477f-9da2-19b547fedba4",
   "metadata": {},
   "source": [
    "# This time, _with_ Ray"
   ]
  },
  {
   "cell_type": "code",
   "execution_count": 16,
   "id": "f30c5e31-66bf-4b21-81fc-dea2c2df12a7",
   "metadata": {},
   "outputs": [
    {
     "name": "stderr",
     "output_type": "stream",
     "text": [
      "/opt/app-root/lib64/python3.8/site-packages/dask/dataframe/utils.py:374: FutureWarning: pandas.Int64Index is deprecated and will be removed from pandas in a future version. Use pandas.Index with the appropriate dtype instead.\n",
      "  _numeric_index_types = (pd.Int64Index, pd.Float64Index, pd.UInt64Index)\n",
      "/opt/app-root/lib64/python3.8/site-packages/dask/dataframe/utils.py:374: FutureWarning: pandas.Float64Index is deprecated and will be removed from pandas in a future version. Use pandas.Index with the appropriate dtype instead.\n",
      "  _numeric_index_types = (pd.Int64Index, pd.Float64Index, pd.UInt64Index)\n",
      "/opt/app-root/lib64/python3.8/site-packages/dask/dataframe/utils.py:374: FutureWarning: pandas.UInt64Index is deprecated and will be removed from pandas in a future version. Use pandas.Index with the appropriate dtype instead.\n",
      "  _numeric_index_types = (pd.Int64Index, pd.Float64Index, pd.UInt64Index)\n",
      "2023-06-14 19:54:41,247\tWARNING services.py:1922 -- WARNING: The object store is using /tmp instead of /dev/shm because /dev/shm has only 67108864 bytes available. This will harm performance! You may be able to free up space by deleting files in /dev/shm. If you are inside a Docker container, you can increase /dev/shm size by passing '--shm-size=2.46gb' to 'docker run' (or add it to the run_options list in a Ray cluster config). Make sure to set this to more than 30% of available RAM.\n",
      "2023-06-14 19:54:42,398\tINFO worker.py:1519 -- Started a local Ray instance. View the dashboard at \u001b[1m\u001b[32mhttp://127.0.0.1:8265 \u001b[39m\u001b[22m\n",
      "2023-06-14 19:54:43,865\tINFO main.py:1005 -- [RayXGBoost] Created 2 new actors (2 total actors). Waiting until actors are ready for training.\n",
      "\u001b[2m\u001b[36m(pid=555)\u001b[0m /opt/app-root/lib64/python3.8/site-packages/dask/dataframe/utils.py:374: FutureWarning: pandas.Int64Index is deprecated and will be removed from pandas in a future version. Use pandas.Index with the appropriate dtype instead.\n",
      "\u001b[2m\u001b[36m(pid=555)\u001b[0m   _numeric_index_types = (pd.Int64Index, pd.Float64Index, pd.UInt64Index)\n",
      "\u001b[2m\u001b[36m(pid=555)\u001b[0m /opt/app-root/lib64/python3.8/site-packages/dask/dataframe/utils.py:374: FutureWarning: pandas.Float64Index is deprecated and will be removed from pandas in a future version. Use pandas.Index with the appropriate dtype instead.\n",
      "\u001b[2m\u001b[36m(pid=555)\u001b[0m   _numeric_index_types = (pd.Int64Index, pd.Float64Index, pd.UInt64Index)\n",
      "\u001b[2m\u001b[36m(pid=555)\u001b[0m /opt/app-root/lib64/python3.8/site-packages/dask/dataframe/utils.py:374: FutureWarning: pandas.UInt64Index is deprecated and will be removed from pandas in a future version. Use pandas.Index with the appropriate dtype instead.\n",
      "\u001b[2m\u001b[36m(pid=555)\u001b[0m   _numeric_index_types = (pd.Int64Index, pd.Float64Index, pd.UInt64Index)\n",
      "\u001b[2m\u001b[36m(pid=583)\u001b[0m /opt/app-root/lib64/python3.8/site-packages/dask/dataframe/utils.py:374: FutureWarning: pandas.Int64Index is deprecated and will be removed from pandas in a future version. Use pandas.Index with the appropriate dtype instead.\n",
      "\u001b[2m\u001b[36m(pid=583)\u001b[0m   _numeric_index_types = (pd.Int64Index, pd.Float64Index, pd.UInt64Index)\n",
      "\u001b[2m\u001b[36m(pid=583)\u001b[0m /opt/app-root/lib64/python3.8/site-packages/dask/dataframe/utils.py:374: FutureWarning: pandas.Float64Index is deprecated and will be removed from pandas in a future version. Use pandas.Index with the appropriate dtype instead.\n",
      "\u001b[2m\u001b[36m(pid=583)\u001b[0m   _numeric_index_types = (pd.Int64Index, pd.Float64Index, pd.UInt64Index)\n",
      "\u001b[2m\u001b[36m(pid=583)\u001b[0m /opt/app-root/lib64/python3.8/site-packages/dask/dataframe/utils.py:374: FutureWarning: pandas.UInt64Index is deprecated and will be removed from pandas in a future version. Use pandas.Index with the appropriate dtype instead.\n",
      "\u001b[2m\u001b[36m(pid=583)\u001b[0m   _numeric_index_types = (pd.Int64Index, pd.Float64Index, pd.UInt64Index)\n",
      "\u001b[2m\u001b[36m(pid=606)\u001b[0m /opt/app-root/lib64/python3.8/site-packages/dask/dataframe/utils.py:374: FutureWarning: pandas.Int64Index is deprecated and will be removed from pandas in a future version. Use pandas.Index with the appropriate dtype instead.\n",
      "\u001b[2m\u001b[36m(pid=606)\u001b[0m   _numeric_index_types = (pd.Int64Index, pd.Float64Index, pd.UInt64Index)\n",
      "\u001b[2m\u001b[36m(pid=606)\u001b[0m /opt/app-root/lib64/python3.8/site-packages/dask/dataframe/utils.py:374: FutureWarning: pandas.Float64Index is deprecated and will be removed from pandas in a future version. Use pandas.Index with the appropriate dtype instead.\n",
      "\u001b[2m\u001b[36m(pid=606)\u001b[0m   _numeric_index_types = (pd.Int64Index, pd.Float64Index, pd.UInt64Index)\n",
      "\u001b[2m\u001b[36m(pid=606)\u001b[0m /opt/app-root/lib64/python3.8/site-packages/dask/dataframe/utils.py:374: FutureWarning: pandas.UInt64Index is deprecated and will be removed from pandas in a future version. Use pandas.Index with the appropriate dtype instead.\n",
      "\u001b[2m\u001b[36m(pid=606)\u001b[0m   _numeric_index_types = (pd.Int64Index, pd.Float64Index, pd.UInt64Index)\n",
      "2023-06-14 19:54:46,969\tINFO main.py:1050 -- [RayXGBoost] Starting XGBoost training.\n",
      "\u001b[2m\u001b[36m(_RemoteRayXGBoostActor pid=583)\u001b[0m [19:54:47] task [xgboost.ray]:140250735650800 got new rank 0\n",
      "\u001b[2m\u001b[36m(_RemoteRayXGBoostActor pid=606)\u001b[0m [19:54:47] task [xgboost.ray]:139868431103840 got new rank 1\n",
      "\u001b[2m\u001b[36m(_QueueActor pid=554)\u001b[0m /opt/app-root/lib64/python3.8/site-packages/dask/dataframe/utils.py:374: FutureWarning: pandas.Int64Index is deprecated and will be removed from pandas in a future version. Use pandas.Index with the appropriate dtype instead.\n",
      "\u001b[2m\u001b[36m(_QueueActor pid=554)\u001b[0m   _numeric_index_types = (pd.Int64Index, pd.Float64Index, pd.UInt64Index)\n",
      "\u001b[2m\u001b[36m(_QueueActor pid=554)\u001b[0m /opt/app-root/lib64/python3.8/site-packages/dask/dataframe/utils.py:374: FutureWarning: pandas.Float64Index is deprecated and will be removed from pandas in a future version. Use pandas.Index with the appropriate dtype instead.\n",
      "\u001b[2m\u001b[36m(_QueueActor pid=554)\u001b[0m   _numeric_index_types = (pd.Int64Index, pd.Float64Index, pd.UInt64Index)\n",
      "\u001b[2m\u001b[36m(_QueueActor pid=554)\u001b[0m /opt/app-root/lib64/python3.8/site-packages/dask/dataframe/utils.py:374: FutureWarning: pandas.UInt64Index is deprecated and will be removed from pandas in a future version. Use pandas.Index with the appropriate dtype instead.\n",
      "\u001b[2m\u001b[36m(_QueueActor pid=554)\u001b[0m   _numeric_index_types = (pd.Int64Index, pd.Float64Index, pd.UInt64Index)\n",
      "2023-06-14 19:54:48,055\tINFO main.py:1546 -- [RayXGBoost] Finished XGBoost training on training data with total N=569 in 4.48 seconds (1.08 pure XGBoost training time).\n"
     ]
    },
    {
     "name": "stdout",
     "output_type": "stream",
     "text": [
      "Final training error: 0.0105\n"
     ]
    }
   ],
   "source": [
    "from xgboost_ray import RayDMatrix, RayParams, train # This line changed\n",
    "from sklearn.datasets import load_breast_cancer\n",
    "\n",
    "train_x, train_y = load_breast_cancer(return_X_y=True)\n",
    "train_set = RayDMatrix(train_x, train_y) # This line changed\n",
    "\n",
    "evals_result = {}\n",
    "\n",
    "bst = train(\n",
    "    {\n",
    "        \"objective\": \"binary:logistic\",\n",
    "        \"eval_metric\": [\"logloss\", \"error\"]\n",
    "    },\n",
    "    train_set,\n",
    "    evals_result=evals_result,\n",
    "    evals=[(train_set, \"train\")],\n",
    "    verbose_eval=False,\n",
    "    num_boost_round=2,\n",
    "    ray_params=RayParams( # This argument added\n",
    "        num_actors=2,\n",
    "        cpus_per_actor=1\n",
    "    )\n",
    ")\n",
    "\n",
    "print(f'Final training error: {evals_result[\"train\"][\"error\"][-1]:.4f}')"
   ]
  },
  {
   "cell_type": "code",
   "execution_count": null,
   "id": "2786adb4-079f-479a-a11e-0cc43b973118",
   "metadata": {},
   "outputs": [],
   "source": []
  }
 ],
 "metadata": {
  "kernelspec": {
   "display_name": "Python 3 (ipykernel)",
   "language": "python",
   "name": "python3"
  },
  "language_info": {
   "codemirror_mode": {
    "name": "ipython",
    "version": 3
   },
   "file_extension": ".py",
   "mimetype": "text/x-python",
   "name": "python",
   "nbconvert_exporter": "python",
   "pygments_lexer": "ipython3",
   "version": "3.8.13"
  }
 },
 "nbformat": 4,
 "nbformat_minor": 5
}
